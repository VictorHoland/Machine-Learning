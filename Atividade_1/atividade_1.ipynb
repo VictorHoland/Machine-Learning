{
 "cells": [
  {
   "cell_type": "code",
   "execution_count": 1,
   "metadata": {},
   "outputs": [],
   "source": [
    "import numpy as np\n",
    "import pandas as pd\n",
    "import matplotlib.pyplot as plt\n",
    "from sklearn.preprocessing import StandardScaler\n",
    "from sklearn.preprocessing import LabelEncoder"
   ]
  },
  {
   "cell_type": "code",
   "execution_count": 2,
   "metadata": {},
   "outputs": [],
   "source": [
    "dados = pd.read_csv('diabetes_dataset.csv',\n",
    "                    sep=',', encoding='iso-8859-1')\n",
    "# encoding: codificação de caracteres, normalmente utiliza-se o iso-8859-1, utf-8, latin-1)"
   ]
  },
  {
   "cell_type": "code",
   "execution_count": 3,
   "metadata": {},
   "outputs": [
    {
     "data": {
      "text/html": [
       "<div>\n",
       "<style scoped>\n",
       "    .dataframe tbody tr th:only-of-type {\n",
       "        vertical-align: middle;\n",
       "    }\n",
       "\n",
       "    .dataframe tbody tr th {\n",
       "        vertical-align: top;\n",
       "    }\n",
       "\n",
       "    .dataframe thead th {\n",
       "        text-align: right;\n",
       "    }\n",
       "</style>\n",
       "<table border=\"1\" class=\"dataframe\">\n",
       "  <thead>\n",
       "    <tr style=\"text-align: right;\">\n",
       "      <th></th>\n",
       "      <th>Pregnancies</th>\n",
       "      <th>Glucose</th>\n",
       "      <th>BloodPressure</th>\n",
       "      <th>SkinThickness</th>\n",
       "      <th>Insulin</th>\n",
       "      <th>BMI</th>\n",
       "      <th>DiabetesPedigreeFunction</th>\n",
       "      <th>Age</th>\n",
       "      <th>Outcome</th>\n",
       "    </tr>\n",
       "  </thead>\n",
       "  <tbody>\n",
       "    <tr>\n",
       "      <th>0</th>\n",
       "      <td>6</td>\n",
       "      <td>148.0</td>\n",
       "      <td>72.0</td>\n",
       "      <td>35.0</td>\n",
       "      <td>NaN</td>\n",
       "      <td>33.6</td>\n",
       "      <td>0.627</td>\n",
       "      <td>50</td>\n",
       "      <td>1</td>\n",
       "    </tr>\n",
       "    <tr>\n",
       "      <th>1</th>\n",
       "      <td>1</td>\n",
       "      <td>85.0</td>\n",
       "      <td>66.0</td>\n",
       "      <td>29.0</td>\n",
       "      <td>NaN</td>\n",
       "      <td>26.6</td>\n",
       "      <td>0.351</td>\n",
       "      <td>31</td>\n",
       "      <td>0</td>\n",
       "    </tr>\n",
       "    <tr>\n",
       "      <th>2</th>\n",
       "      <td>8</td>\n",
       "      <td>183.0</td>\n",
       "      <td>64.0</td>\n",
       "      <td>NaN</td>\n",
       "      <td>NaN</td>\n",
       "      <td>23.3</td>\n",
       "      <td>0.672</td>\n",
       "      <td>32</td>\n",
       "      <td>1</td>\n",
       "    </tr>\n",
       "    <tr>\n",
       "      <th>3</th>\n",
       "      <td>0</td>\n",
       "      <td>137.0</td>\n",
       "      <td>40.0</td>\n",
       "      <td>35.0</td>\n",
       "      <td>168.0</td>\n",
       "      <td>43.1</td>\n",
       "      <td>2.288</td>\n",
       "      <td>33</td>\n",
       "      <td>1</td>\n",
       "    </tr>\n",
       "    <tr>\n",
       "      <th>4</th>\n",
       "      <td>5</td>\n",
       "      <td>116.0</td>\n",
       "      <td>74.0</td>\n",
       "      <td>NaN</td>\n",
       "      <td>NaN</td>\n",
       "      <td>25.6</td>\n",
       "      <td>0.201</td>\n",
       "      <td>30</td>\n",
       "      <td>0</td>\n",
       "    </tr>\n",
       "  </tbody>\n",
       "</table>\n",
       "</div>"
      ],
      "text/plain": [
       "   Pregnancies  Glucose  BloodPressure  SkinThickness  Insulin   BMI  \\\n",
       "0            6    148.0           72.0           35.0      NaN  33.6   \n",
       "1            1     85.0           66.0           29.0      NaN  26.6   \n",
       "2            8    183.0           64.0            NaN      NaN  23.3   \n",
       "3            0    137.0           40.0           35.0    168.0  43.1   \n",
       "4            5    116.0           74.0            NaN      NaN  25.6   \n",
       "\n",
       "   DiabetesPedigreeFunction  Age  Outcome  \n",
       "0                     0.627   50        1  \n",
       "1                     0.351   31        0  \n",
       "2                     0.672   32        1  \n",
       "3                     2.288   33        1  \n",
       "4                     0.201   30        0  "
      ]
     },
     "execution_count": 3,
     "metadata": {},
     "output_type": "execute_result"
    }
   ],
   "source": [
    "dados.head() #Primeiras linhas"
   ]
  },
  {
   "cell_type": "code",
   "execution_count": 4,
   "metadata": {},
   "outputs": [
    {
     "data": {
      "text/html": [
       "<div>\n",
       "<style scoped>\n",
       "    .dataframe tbody tr th:only-of-type {\n",
       "        vertical-align: middle;\n",
       "    }\n",
       "\n",
       "    .dataframe tbody tr th {\n",
       "        vertical-align: top;\n",
       "    }\n",
       "\n",
       "    .dataframe thead th {\n",
       "        text-align: right;\n",
       "    }\n",
       "</style>\n",
       "<table border=\"1\" class=\"dataframe\">\n",
       "  <thead>\n",
       "    <tr style=\"text-align: right;\">\n",
       "      <th></th>\n",
       "      <th>Pregnancies</th>\n",
       "      <th>Glucose</th>\n",
       "      <th>BloodPressure</th>\n",
       "      <th>SkinThickness</th>\n",
       "      <th>Insulin</th>\n",
       "      <th>BMI</th>\n",
       "      <th>DiabetesPedigreeFunction</th>\n",
       "      <th>Age</th>\n",
       "      <th>Outcome</th>\n",
       "    </tr>\n",
       "  </thead>\n",
       "  <tbody>\n",
       "    <tr>\n",
       "      <th>567</th>\n",
       "      <td>9</td>\n",
       "      <td>89.0</td>\n",
       "      <td>62.0</td>\n",
       "      <td>NaN</td>\n",
       "      <td>NaN</td>\n",
       "      <td>22.5</td>\n",
       "      <td>0.142</td>\n",
       "      <td>33</td>\n",
       "      <td>0</td>\n",
       "    </tr>\n",
       "    <tr>\n",
       "      <th>568</th>\n",
       "      <td>2</td>\n",
       "      <td>122.0</td>\n",
       "      <td>70.0</td>\n",
       "      <td>27.0</td>\n",
       "      <td>NaN</td>\n",
       "      <td>36.8</td>\n",
       "      <td>0.340</td>\n",
       "      <td>27</td>\n",
       "      <td>0</td>\n",
       "    </tr>\n",
       "    <tr>\n",
       "      <th>569</th>\n",
       "      <td>5</td>\n",
       "      <td>121.0</td>\n",
       "      <td>72.0</td>\n",
       "      <td>23.0</td>\n",
       "      <td>112.0</td>\n",
       "      <td>26.2</td>\n",
       "      <td>0.245</td>\n",
       "      <td>30</td>\n",
       "      <td>0</td>\n",
       "    </tr>\n",
       "    <tr>\n",
       "      <th>570</th>\n",
       "      <td>1</td>\n",
       "      <td>126.0</td>\n",
       "      <td>60.0</td>\n",
       "      <td>NaN</td>\n",
       "      <td>NaN</td>\n",
       "      <td>30.1</td>\n",
       "      <td>0.349</td>\n",
       "      <td>47</td>\n",
       "      <td>1</td>\n",
       "    </tr>\n",
       "    <tr>\n",
       "      <th>571</th>\n",
       "      <td>1</td>\n",
       "      <td>93.0</td>\n",
       "      <td>70.0</td>\n",
       "      <td>31.0</td>\n",
       "      <td>NaN</td>\n",
       "      <td>30.4</td>\n",
       "      <td>0.315</td>\n",
       "      <td>23</td>\n",
       "      <td>0</td>\n",
       "    </tr>\n",
       "  </tbody>\n",
       "</table>\n",
       "</div>"
      ],
      "text/plain": [
       "     Pregnancies  Glucose  BloodPressure  SkinThickness  Insulin   BMI  \\\n",
       "567            9     89.0           62.0            NaN      NaN  22.5   \n",
       "568            2    122.0           70.0           27.0      NaN  36.8   \n",
       "569            5    121.0           72.0           23.0    112.0  26.2   \n",
       "570            1    126.0           60.0            NaN      NaN  30.1   \n",
       "571            1     93.0           70.0           31.0      NaN  30.4   \n",
       "\n",
       "     DiabetesPedigreeFunction  Age  Outcome  \n",
       "567                     0.142   33        0  \n",
       "568                     0.340   27        0  \n",
       "569                     0.245   30        0  \n",
       "570                     0.349   47        1  \n",
       "571                     0.315   23        0  "
      ]
     },
     "execution_count": 4,
     "metadata": {},
     "output_type": "execute_result"
    }
   ],
   "source": [
    "dados.tail() #ultimas linhas"
   ]
  },
  {
   "cell_type": "code",
   "execution_count": 5,
   "metadata": {},
   "outputs": [
    {
     "data": {
      "text/plain": [
       "(572, 9)"
      ]
     },
     "execution_count": 5,
     "metadata": {},
     "output_type": "execute_result"
    }
   ],
   "source": [
    "dados.shape #Linhas e colunas do arquivo"
   ]
  },
  {
   "cell_type": "code",
   "execution_count": 6,
   "metadata": {},
   "outputs": [
    {
     "data": {
      "text/plain": [
       "22    51\n",
       "21    46\n",
       "25    31\n",
       "24    30\n",
       "23    25\n",
       "27    24\n",
       "28    23\n",
       "26    22\n",
       "29    22\n",
       "41    20\n",
       "31    19\n",
       "30    18\n",
       "38    15\n",
       "37    15\n",
       "42    15\n",
       "45    14\n",
       "33    13\n",
       "32    13\n",
       "46    11\n",
       "39    11\n",
       "36    10\n",
       "40    10\n",
       "35     8\n",
       "44     8\n",
       "52     7\n",
       "50     7\n",
       "43     7\n",
       "34     7\n",
       "51     6\n",
       "47     5\n",
       "54     5\n",
       "60     4\n",
       "57     4\n",
       "62     4\n",
       "49     4\n",
       "66     4\n",
       "53     3\n",
       "67     3\n",
       "58     3\n",
       "63     3\n",
       "48     3\n",
       "56     3\n",
       "65     3\n",
       "55     3\n",
       "69     2\n",
       "59     2\n",
       "61     1\n",
       "72     1\n",
       "81     1\n",
       "64     1\n",
       "70     1\n",
       "68     1\n",
       "Name: Age, dtype: int64"
      ]
     },
     "execution_count": 6,
     "metadata": {},
     "output_type": "execute_result"
    }
   ],
   "source": [
    "dados['Age'].value_counts() #As idades e a frequencia que as idades se repetem"
   ]
  },
  {
   "cell_type": "code",
   "execution_count": 7,
   "metadata": {},
   "outputs": [
    {
     "data": {
      "text/plain": [
       "21    46\n",
       "22    51\n",
       "23    25\n",
       "24    30\n",
       "25    31\n",
       "26    22\n",
       "27    24\n",
       "28    23\n",
       "29    22\n",
       "30    18\n",
       "31    19\n",
       "32    13\n",
       "33    13\n",
       "34     7\n",
       "35     8\n",
       "36    10\n",
       "37    15\n",
       "38    15\n",
       "39    11\n",
       "40    10\n",
       "41    20\n",
       "42    15\n",
       "43     7\n",
       "44     8\n",
       "45    14\n",
       "46    11\n",
       "47     5\n",
       "48     3\n",
       "49     4\n",
       "50     7\n",
       "51     6\n",
       "52     7\n",
       "53     3\n",
       "54     5\n",
       "55     3\n",
       "56     3\n",
       "57     4\n",
       "58     3\n",
       "59     2\n",
       "60     4\n",
       "61     1\n",
       "62     4\n",
       "63     3\n",
       "64     1\n",
       "65     3\n",
       "66     4\n",
       "67     3\n",
       "68     1\n",
       "69     2\n",
       "70     1\n",
       "72     1\n",
       "81     1\n",
       "Name: Age, dtype: int64"
      ]
     },
     "execution_count": 7,
     "metadata": {},
     "output_type": "execute_result"
    }
   ],
   "source": [
    "dados['Age'].value_counts().sort_index() #Colocando a idade em ordem"
   ]
  },
  {
   "cell_type": "code",
   "execution_count": 8,
   "metadata": {},
   "outputs": [
    {
     "data": {
      "text/plain": [
       "<AxesSubplot: ylabel='Frequency'>"
      ]
     },
     "execution_count": 8,
     "metadata": {},
     "output_type": "execute_result"
    },
    {
     "data": {
      "image/png": "[encoded data removed]",
      "text/plain": [
       "<Figure size 640x480 with 1 Axes>"
      ]
     },
     "metadata": {},
     "output_type": "display_data"
    }
   ],
   "source": [
    "dados['Age'].plot(kind='hist', bins = 15) #plotando histograma da idade"
   ]
  },
  {
   "cell_type": "code",
   "execution_count": 9,
   "metadata": {},
   "outputs": [],
   "source": [
    "import seaborn as sns"
   ]
  },
  {
   "cell_type": "code",
   "execution_count": 10,
   "metadata": {},
   "outputs": [
    {
     "data": {
      "image/png": "[encoded data removed]",
      "text/plain": [
       "<Figure size 640x480 with 1 Axes>"
      ]
     },
     "metadata": {},
     "output_type": "display_data"
    }
   ],
   "source": [
    "sns.histplot(dados, x='Age', bins=30, color=\"orange\", kde=True, stat=\"count\");\n",
    "#linha indica a distribuição média"
   ]
  },
  {
   "attachments": {},
   "cell_type": "markdown",
   "metadata": {},
   "source": [
    "Nas idades não há nada de incomum."
   ]
  },
  {
   "cell_type": "code",
   "execution_count": 11,
   "metadata": {},
   "outputs": [
    {
     "data": {
      "text/plain": [
       "0    367\n",
       "1    205\n",
       "Name: Outcome, dtype: int64"
      ]
     },
     "execution_count": 11,
     "metadata": {},
     "output_type": "execute_result"
    }
   ],
   "source": [
    "dados['Outcome'].value_counts()"
   ]
  },
  {
   "cell_type": "code",
   "execution_count": 12,
   "metadata": {},
   "outputs": [],
   "source": [
    "#sns.countplot(x='Outcome', data=dados); #Quem teve diabete e quem não teve"
   ]
  },
  {
   "cell_type": "code",
   "execution_count": 13,
   "metadata": {},
   "outputs": [
    {
     "data": {
      "text/plain": [
       "0     82\n",
       "1     86\n",
       "2     70\n",
       "3     50\n",
       "4     55\n",
       "5     48\n",
       "6     44\n",
       "7     37\n",
       "8     28\n",
       "9     22\n",
       "10    20\n",
       "11    10\n",
       "12     8\n",
       "13     9\n",
       "14     2\n",
       "17     1\n",
       "Name: Pregnancies, dtype: int64"
      ]
     },
     "execution_count": 13,
     "metadata": {},
     "output_type": "execute_result"
    }
   ],
   "source": [
    "dados.Pregnancies.value_counts().sort_index()"
   ]
  },
  {
   "cell_type": "code",
   "execution_count": 14,
   "metadata": {},
   "outputs": [
    {
     "data": {
      "image/png": "[encoded data removed]",
      "text/plain": [
       "<Figure size 640x480 with 1 Axes>"
      ]
     },
     "metadata": {},
     "output_type": "display_data"
    }
   ],
   "source": [
    "sns.histplot(dados, x='Pregnancies', bins=30, color=\"orange\", kde=True, stat=\"count\");"
   ]
  },
  {
   "attachments": {},
   "cell_type": "markdown",
   "metadata": {},
   "source": [
    "Já houve registros de mulheres dando a luz a mais de 20 filhos, então 17 é aceitável."
   ]
  },
  {
   "cell_type": "code",
   "execution_count": 15,
   "metadata": {},
   "outputs": [
    {
     "data": {
      "text/plain": [
       "44.0     1\n",
       "57.0     2\n",
       "61.0     1\n",
       "62.0     1\n",
       "65.0     1\n",
       "        ..\n",
       "194.0    3\n",
       "195.0    1\n",
       "196.0    2\n",
       "197.0    4\n",
       "199.0    1\n",
       "Name: Glucose, Length: 130, dtype: int64"
      ]
     },
     "execution_count": 15,
     "metadata": {},
     "output_type": "execute_result"
    }
   ],
   "source": [
    "dados.Glucose.value_counts().sort_index()"
   ]
  },
  {
   "cell_type": "code",
   "execution_count": 16,
   "metadata": {},
   "outputs": [
    {
     "data": {
      "image/png": "[encoded data removed]",
      "text/plain": [
       "<Figure size 640x480 with 1 Axes>"
      ]
     },
     "metadata": {},
     "output_type": "display_data"
    }
   ],
   "source": [
    "sns.histplot(dados, x='Glucose', bins=30, color=\"orange\", kde=True, stat=\"count\");"
   ]
  },
  {
   "attachments": {},
   "cell_type": "markdown",
   "metadata": {},
   "source": [
    "O estado de normalidade da glicemia em jejum é de 70 mg/dl a 100 mg/ld. Uma pessoa é classificada como pré-diabética ao medir a sua glicemia em jejum e atingir entre 100 e 125 mg/dl. Já aqueles que atingem a partir de 126 mg/dl são considerados diabéticos. Não há como saber se foram feitas em pacientes em jejum  ou não, vou considerar que todos estavam em jejum."
   ]
  },
  {
   "cell_type": "code",
   "execution_count": 17,
   "metadata": {},
   "outputs": [
    {
     "data": {
      "text/plain": [
       "30.0      2\n",
       "40.0      1\n",
       "44.0      2\n",
       "46.0      2\n",
       "48.0      4\n",
       "50.0      8\n",
       "52.0      8\n",
       "54.0      7\n",
       "55.0      2\n",
       "56.0      7\n",
       "58.0      9\n",
       "60.0     28\n",
       "61.0      1\n",
       "62.0     25\n",
       "64.0     28\n",
       "65.0      6\n",
       "66.0     22\n",
       "68.0     34\n",
       "70.0     40\n",
       "72.0     33\n",
       "74.0     38\n",
       "75.0      8\n",
       "76.0     29\n",
       "78.0     33\n",
       "80.0     30\n",
       "82.0     21\n",
       "84.0     21\n",
       "85.0      4\n",
       "86.0     17\n",
       "88.0     17\n",
       "90.0     16\n",
       "92.0      7\n",
       "94.0      6\n",
       "95.0      1\n",
       "96.0      4\n",
       "98.0      3\n",
       "100.0     3\n",
       "102.0     1\n",
       "104.0     2\n",
       "106.0     2\n",
       "108.0     2\n",
       "110.0     1\n",
       "114.0     1\n",
       "122.0     1\n",
       "Name: BloodPressure, dtype: int64"
      ]
     },
     "execution_count": 17,
     "metadata": {},
     "output_type": "execute_result"
    }
   ],
   "source": [
    "dados.BloodPressure.value_counts().sort_index()"
   ]
  },
  {
   "cell_type": "code",
   "execution_count": 18,
   "metadata": {},
   "outputs": [
    {
     "data": {
      "image/png": "[encoded data removed]",
      "text/plain": [
       "<Figure size 640x480 with 1 Axes>"
      ]
     },
     "metadata": {},
     "output_type": "display_data"
    }
   ],
   "source": [
    "sns.histplot(dados, x='BloodPressure', bins=30, color=\"orange\", kde=True, stat=\"count\");"
   ]
  },
  {
   "attachments": {},
   "cell_type": "markdown",
   "metadata": {},
   "source": [
    "Pressão diastólica → força que o sangue promove dentro das artérias durante a diástole ventricular. Seu valor para uma pessoa saudável adulta são para valores menores que 80 mmHg.\n",
    "Para a maior parte dos adultos, considera-se que a pessoa tem hipertensão arterial quando a pressão arterial em repouso é consistentemente superior a 140/90 mmHg.\n",
    "https://pt.wikipedia.org/wiki/Hipertens%C3%A3o_arterial"
   ]
  },
  {
   "cell_type": "code",
   "execution_count": 19,
   "metadata": {},
   "outputs": [
    {
     "data": {
      "text/plain": [
       "7.0      2\n",
       "8.0      1\n",
       "10.0     3\n",
       "11.0     5\n",
       "12.0     1\n",
       "13.0     4\n",
       "14.0     5\n",
       "15.0     9\n",
       "16.0     4\n",
       "17.0    11\n",
       "18.0    10\n",
       "19.0    12\n",
       "20.0    10\n",
       "21.0     7\n",
       "22.0    10\n",
       "23.0    12\n",
       "24.0     7\n",
       "25.0    10\n",
       "26.0     9\n",
       "27.0    16\n",
       "28.0    13\n",
       "29.0     9\n",
       "30.0    20\n",
       "31.0    13\n",
       "32.0    21\n",
       "33.0    12\n",
       "34.0     2\n",
       "35.0    11\n",
       "36.0    10\n",
       "37.0    10\n",
       "38.0     6\n",
       "39.0    12\n",
       "40.0    12\n",
       "41.0    13\n",
       "42.0     7\n",
       "43.0     2\n",
       "44.0     3\n",
       "45.0     3\n",
       "46.0     4\n",
       "47.0     2\n",
       "48.0     3\n",
       "49.0     2\n",
       "50.0     2\n",
       "52.0     2\n",
       "54.0     2\n",
       "99.0     1\n",
       "Name: SkinThickness, dtype: int64"
      ]
     },
     "execution_count": 19,
     "metadata": {},
     "output_type": "execute_result"
    }
   ],
   "source": [
    "dados.SkinThickness.value_counts().sort_index()"
   ]
  },
  {
   "attachments": {},
   "cell_type": "markdown",
   "metadata": {},
   "source": [
    "Falta achar referência."
   ]
  },
  {
   "cell_type": "code",
   "execution_count": 20,
   "metadata": {},
   "outputs": [
    {
     "data": {
      "image/png": "[encoded data removed]",
      "text/plain": [
       "<Figure size 640x480 with 1 Axes>"
      ]
     },
     "metadata": {},
     "output_type": "display_data"
    }
   ],
   "source": [
    "sns.histplot(dados, x='SkinThickness', bins=30, color=\"orange\", kde=True, stat=\"count\");"
   ]
  },
  {
   "cell_type": "code",
   "execution_count": 21,
   "metadata": {},
   "outputs": [
    {
     "data": {
      "text/plain": [
       "16.0     1\n",
       "18.0     1\n",
       "22.0     1\n",
       "23.0     2\n",
       "36.0     1\n",
       "        ..\n",
       "540.0    1\n",
       "543.0    1\n",
       "579.0    1\n",
       "680.0    1\n",
       "744.0    1\n",
       "Name: Insulin, Length: 124, dtype: int64"
      ]
     },
     "execution_count": 21,
     "metadata": {},
     "output_type": "execute_result"
    }
   ],
   "source": [
    "dados.Insulin.value_counts().sort_index()"
   ]
  },
  {
   "cell_type": "code",
   "execution_count": 22,
   "metadata": {},
   "outputs": [
    {
     "data": {
      "image/png": "[encoded data removed]",
      "text/plain": [
       "<Figure size 640x480 with 1 Axes>"
      ]
     },
     "metadata": {},
     "output_type": "display_data"
    }
   ],
   "source": [
    "sns.histplot(dados, x='Insulin', bins=30, color=\"orange\", kde=True, stat=\"count\");"
   ]
  },
  {
   "cell_type": "code",
   "execution_count": 23,
   "metadata": {},
   "outputs": [
    {
     "data": {
      "text/plain": [
       "18.2    2\n",
       "18.4    1\n",
       "19.1    1\n",
       "19.3    1\n",
       "19.4    1\n",
       "       ..\n",
       "50.0    1\n",
       "52.3    2\n",
       "52.9    1\n",
       "55.0    1\n",
       "57.3    1\n",
       "Name: BMI, Length: 221, dtype: int64"
      ]
     },
     "execution_count": 23,
     "metadata": {},
     "output_type": "execute_result"
    }
   ],
   "source": [
    "dados.BMI.value_counts().sort_index()"
   ]
  },
  {
   "cell_type": "code",
   "execution_count": 24,
   "metadata": {},
   "outputs": [
    {
     "data": {
      "image/png": "[encoded data removed]",
      "text/plain": [
       "<Figure size 640x480 with 1 Axes>"
      ]
     },
     "metadata": {},
     "output_type": "display_data"
    }
   ],
   "source": [
    "sns.histplot(dados, x='BMI', bins=30, color=\"orange\", kde=True, stat=\"count\");"
   ]
  },
  {
   "cell_type": "code",
   "execution_count": 25,
   "metadata": {},
   "outputs": [
    {
     "data": {
      "text/plain": [
       "0.078    1\n",
       "0.084    1\n",
       "0.085    2\n",
       "0.088    2\n",
       "0.092    1\n",
       "        ..\n",
       "1.781    1\n",
       "1.893    1\n",
       "2.137    1\n",
       "2.288    1\n",
       "2.329    1\n",
       "Name: DiabetesPedigreeFunction, Length: 400, dtype: int64"
      ]
     },
     "execution_count": 25,
     "metadata": {},
     "output_type": "execute_result"
    }
   ],
   "source": [
    "dados.DiabetesPedigreeFunction.value_counts().sort_index()"
   ]
  },
  {
   "cell_type": "code",
   "execution_count": 26,
   "metadata": {},
   "outputs": [
    {
     "data": {
      "image/png": "[encoded data removed]",
      "text/plain": [
       "<Figure size 640x480 with 1 Axes>"
      ]
     },
     "metadata": {},
     "output_type": "display_data"
    }
   ],
   "source": [
    "sns.histplot(dados, x='DiabetesPedigreeFunction', bins=30, color=\"orange\", kde=True, stat=\"count\");"
   ]
  },
  {
   "attachments": {},
   "cell_type": "markdown",
   "metadata": {},
   "source": [
    "Analise e tratamento"
   ]
  },
  {
   "cell_type": "code",
   "execution_count": 27,
   "metadata": {},
   "outputs": [
    {
     "data": {
      "text/plain": [
       "Pregnancies                   int64\n",
       "Glucose                     float64\n",
       "BloodPressure               float64\n",
       "SkinThickness               float64\n",
       "Insulin                     float64\n",
       "BMI                         float64\n",
       "DiabetesPedigreeFunction    float64\n",
       "Age                           int64\n",
       "Outcome                       int64\n",
       "dtype: object"
      ]
     },
     "execution_count": 27,
     "metadata": {},
     "output_type": "execute_result"
    }
   ],
   "source": [
    "dados.dtypes"
   ]
  },
  {
   "cell_type": "code",
   "execution_count": 28,
   "metadata": {},
   "outputs": [
    {
     "data": {
      "text/plain": [
       "Pregnancies                   0\n",
       "Glucose                       5\n",
       "BloodPressure                35\n",
       "SkinThickness               227\n",
       "Insulin                     374\n",
       "BMI                          11\n",
       "DiabetesPedigreeFunction      0\n",
       "Age                           0\n",
       "Outcome                       0\n",
       "dtype: int64"
      ]
     },
     "execution_count": 28,
     "metadata": {},
     "output_type": "execute_result"
    }
   ],
   "source": [
    "#Dados faltosos\n",
    "dados.isnull().sum()"
   ]
  },
  {
   "cell_type": "code",
   "execution_count": 29,
   "metadata": {},
   "outputs": [
    {
     "data": {
      "text/html": [
       "<div>\n",
       "<style scoped>\n",
       "    .dataframe tbody tr th:only-of-type {\n",
       "        vertical-align: middle;\n",
       "    }\n",
       "\n",
       "    .dataframe tbody tr th {\n",
       "        vertical-align: top;\n",
       "    }\n",
       "\n",
       "    .dataframe thead th {\n",
       "        text-align: right;\n",
       "    }\n",
       "</style>\n",
       "<table border=\"1\" class=\"dataframe\">\n",
       "  <thead>\n",
       "    <tr style=\"text-align: right;\">\n",
       "      <th></th>\n",
       "      <th>Pregnancies</th>\n",
       "      <th>Glucose</th>\n",
       "      <th>BloodPressure</th>\n",
       "      <th>SkinThickness</th>\n",
       "      <th>Insulin</th>\n",
       "      <th>BMI</th>\n",
       "      <th>DiabetesPedigreeFunction</th>\n",
       "      <th>Age</th>\n",
       "      <th>Outcome</th>\n",
       "    </tr>\n",
       "  </thead>\n",
       "  <tbody>\n",
       "    <tr>\n",
       "      <th>1</th>\n",
       "      <td>1</td>\n",
       "      <td>85.0</td>\n",
       "      <td>66.0</td>\n",
       "      <td>29.0</td>\n",
       "      <td>105.0</td>\n",
       "      <td>26.6</td>\n",
       "      <td>0.351</td>\n",
       "      <td>31</td>\n",
       "      <td>0</td>\n",
       "    </tr>\n",
       "    <tr>\n",
       "      <th>4</th>\n",
       "      <td>5</td>\n",
       "      <td>116.0</td>\n",
       "      <td>74.0</td>\n",
       "      <td>27.0</td>\n",
       "      <td>105.0</td>\n",
       "      <td>25.6</td>\n",
       "      <td>0.201</td>\n",
       "      <td>30</td>\n",
       "      <td>0</td>\n",
       "    </tr>\n",
       "    <tr>\n",
       "      <th>5</th>\n",
       "      <td>10</td>\n",
       "      <td>115.0</td>\n",
       "      <td>72.0</td>\n",
       "      <td>27.0</td>\n",
       "      <td>105.0</td>\n",
       "      <td>35.3</td>\n",
       "      <td>0.134</td>\n",
       "      <td>29</td>\n",
       "      <td>0</td>\n",
       "    </tr>\n",
       "    <tr>\n",
       "      <th>8</th>\n",
       "      <td>4</td>\n",
       "      <td>110.0</td>\n",
       "      <td>92.0</td>\n",
       "      <td>27.0</td>\n",
       "      <td>105.0</td>\n",
       "      <td>37.6</td>\n",
       "      <td>0.191</td>\n",
       "      <td>30</td>\n",
       "      <td>0</td>\n",
       "    </tr>\n",
       "    <tr>\n",
       "      <th>10</th>\n",
       "      <td>10</td>\n",
       "      <td>139.0</td>\n",
       "      <td>80.0</td>\n",
       "      <td>27.0</td>\n",
       "      <td>105.0</td>\n",
       "      <td>27.1</td>\n",
       "      <td>1.441</td>\n",
       "      <td>57</td>\n",
       "      <td>0</td>\n",
       "    </tr>\n",
       "    <tr>\n",
       "      <th>...</th>\n",
       "      <td>...</td>\n",
       "      <td>...</td>\n",
       "      <td>...</td>\n",
       "      <td>...</td>\n",
       "      <td>...</td>\n",
       "      <td>...</td>\n",
       "      <td>...</td>\n",
       "      <td>...</td>\n",
       "      <td>...</td>\n",
       "    </tr>\n",
       "    <tr>\n",
       "      <th>560</th>\n",
       "      <td>8</td>\n",
       "      <td>154.0</td>\n",
       "      <td>78.0</td>\n",
       "      <td>32.0</td>\n",
       "      <td>175.0</td>\n",
       "      <td>32.4</td>\n",
       "      <td>0.443</td>\n",
       "      <td>45</td>\n",
       "      <td>1</td>\n",
       "    </tr>\n",
       "    <tr>\n",
       "      <th>562</th>\n",
       "      <td>0</td>\n",
       "      <td>123.0</td>\n",
       "      <td>72.0</td>\n",
       "      <td>32.0</td>\n",
       "      <td>175.0</td>\n",
       "      <td>36.3</td>\n",
       "      <td>0.258</td>\n",
       "      <td>52</td>\n",
       "      <td>1</td>\n",
       "    </tr>\n",
       "    <tr>\n",
       "      <th>564</th>\n",
       "      <td>6</td>\n",
       "      <td>190.0</td>\n",
       "      <td>92.0</td>\n",
       "      <td>32.0</td>\n",
       "      <td>175.0</td>\n",
       "      <td>35.5</td>\n",
       "      <td>0.278</td>\n",
       "      <td>66</td>\n",
       "      <td>1</td>\n",
       "    </tr>\n",
       "    <tr>\n",
       "      <th>566</th>\n",
       "      <td>9</td>\n",
       "      <td>170.0</td>\n",
       "      <td>74.0</td>\n",
       "      <td>31.0</td>\n",
       "      <td>175.0</td>\n",
       "      <td>44.0</td>\n",
       "      <td>0.403</td>\n",
       "      <td>43</td>\n",
       "      <td>1</td>\n",
       "    </tr>\n",
       "    <tr>\n",
       "      <th>570</th>\n",
       "      <td>1</td>\n",
       "      <td>126.0</td>\n",
       "      <td>60.0</td>\n",
       "      <td>32.0</td>\n",
       "      <td>175.0</td>\n",
       "      <td>30.1</td>\n",
       "      <td>0.349</td>\n",
       "      <td>47</td>\n",
       "      <td>1</td>\n",
       "    </tr>\n",
       "  </tbody>\n",
       "</table>\n",
       "<p>572 rows × 9 columns</p>\n",
       "</div>"
      ],
      "text/plain": [
       "     Pregnancies  Glucose  BloodPressure  SkinThickness  Insulin   BMI  \\\n",
       "1              1     85.0           66.0           29.0    105.0  26.6   \n",
       "4              5    116.0           74.0           27.0    105.0  25.6   \n",
       "5             10    115.0           72.0           27.0    105.0  35.3   \n",
       "8              4    110.0           92.0           27.0    105.0  37.6   \n",
       "10            10    139.0           80.0           27.0    105.0  27.1   \n",
       "..           ...      ...            ...            ...      ...   ...   \n",
       "560            8    154.0           78.0           32.0    175.0  32.4   \n",
       "562            0    123.0           72.0           32.0    175.0  36.3   \n",
       "564            6    190.0           92.0           32.0    175.0  35.5   \n",
       "566            9    170.0           74.0           31.0    175.0  44.0   \n",
       "570            1    126.0           60.0           32.0    175.0  30.1   \n",
       "\n",
       "     DiabetesPedigreeFunction  Age  Outcome  \n",
       "1                       0.351   31        0  \n",
       "4                       0.201   30        0  \n",
       "5                       0.134   29        0  \n",
       "8                       0.191   30        0  \n",
       "10                      1.441   57        0  \n",
       "..                        ...  ...      ...  \n",
       "560                     0.443   45        1  \n",
       "562                     0.258   52        1  \n",
       "564                     0.278   66        1  \n",
       "566                     0.403   43        1  \n",
       "570                     0.349   47        1  \n",
       "\n",
       "[572 rows x 9 columns]"
      ]
     },
     "execution_count": 29,
     "metadata": {},
     "output_type": "execute_result"
    }
   ],
   "source": [
    "#Pegando os doentes e os saudáveis\n",
    "\n",
    "# SUBSTITUIR OS VALORES MISSING PELA MÉDIA\n",
    "#dados['column'].fillna(dados['column'].mean(), inplace=True)\n",
    "\n",
    "\n",
    "# Separar entre saudáveis e diabéticos para adicionar o valores faltantes\n",
    "saudaveis = dados[dados['Outcome']==0].copy()\n",
    "doentes = dados[dados['Outcome']==1].copy()\n",
    "\n",
    "# Preencher dados faltantes usando a mediana da classe\n",
    "for column in saudaveis.columns[:-1]:\n",
    "    saudaveis[column].fillna(saudaveis[column].median(), inplace=True)\n",
    "\n",
    "for column in doentes.columns[:-1]:\n",
    "    doentes[column].fillna(doentes[column].median(), inplace=True)\n",
    "\n",
    "dados = pd.concat([saudaveis, doentes])\n",
    "\n",
    "dados"
   ]
  },
  {
   "cell_type": "code",
   "execution_count": 30,
   "metadata": {},
   "outputs": [
    {
     "data": {
      "text/plain": [
       "Pregnancies                 0\n",
       "Glucose                     0\n",
       "BloodPressure               0\n",
       "SkinThickness               0\n",
       "Insulin                     0\n",
       "BMI                         0\n",
       "DiabetesPedigreeFunction    0\n",
       "Age                         0\n",
       "Outcome                     0\n",
       "dtype: int64"
      ]
     },
     "execution_count": 30,
     "metadata": {},
     "output_type": "execute_result"
    }
   ],
   "source": [
    "dados.isnull().sum()"
   ]
  },
  {
   "cell_type": "code",
   "execution_count": 31,
   "metadata": {},
   "outputs": [
    {
     "data": {
      "text/html": [
       "<div>\n",
       "<style scoped>\n",
       "    .dataframe tbody tr th:only-of-type {\n",
       "        vertical-align: middle;\n",
       "    }\n",
       "\n",
       "    .dataframe tbody tr th {\n",
       "        vertical-align: top;\n",
       "    }\n",
       "\n",
       "    .dataframe thead th {\n",
       "        text-align: right;\n",
       "    }\n",
       "</style>\n",
       "<table border=\"1\" class=\"dataframe\">\n",
       "  <thead>\n",
       "    <tr style=\"text-align: right;\">\n",
       "      <th></th>\n",
       "      <th>Pregnancies</th>\n",
       "      <th>Glucose</th>\n",
       "      <th>BloodPressure</th>\n",
       "      <th>SkinThickness</th>\n",
       "      <th>Insulin</th>\n",
       "      <th>BMI</th>\n",
       "      <th>DiabetesPedigreeFunction</th>\n",
       "      <th>Age</th>\n",
       "      <th>Outcome</th>\n",
       "    </tr>\n",
       "  </thead>\n",
       "  <tbody>\n",
       "    <tr>\n",
       "      <th>count</th>\n",
       "      <td>572.000000</td>\n",
       "      <td>572.000000</td>\n",
       "      <td>572.000000</td>\n",
       "      <td>572.000000</td>\n",
       "      <td>572.000000</td>\n",
       "      <td>572.000000</td>\n",
       "      <td>572.000000</td>\n",
       "      <td>572.000000</td>\n",
       "      <td>572.000000</td>\n",
       "    </tr>\n",
       "    <tr>\n",
       "      <th>mean</th>\n",
       "      <td>4.106643</td>\n",
       "      <td>121.627622</td>\n",
       "      <td>73.136364</td>\n",
       "      <td>29.190559</td>\n",
       "      <td>139.865385</td>\n",
       "      <td>32.298427</td>\n",
       "      <td>0.459121</td>\n",
       "      <td>34.043706</td>\n",
       "      <td>0.358392</td>\n",
       "    </tr>\n",
       "    <tr>\n",
       "      <th>std</th>\n",
       "      <td>3.446995</td>\n",
       "      <td>30.034239</td>\n",
       "      <td>11.965461</td>\n",
       "      <td>8.245174</td>\n",
       "      <td>76.111457</td>\n",
       "      <td>6.676774</td>\n",
       "      <td>0.336124</td>\n",
       "      <td>12.103893</td>\n",
       "      <td>0.479948</td>\n",
       "    </tr>\n",
       "    <tr>\n",
       "      <th>min</th>\n",
       "      <td>0.000000</td>\n",
       "      <td>44.000000</td>\n",
       "      <td>30.000000</td>\n",
       "      <td>7.000000</td>\n",
       "      <td>16.000000</td>\n",
       "      <td>18.200000</td>\n",
       "      <td>0.078000</td>\n",
       "      <td>21.000000</td>\n",
       "      <td>0.000000</td>\n",
       "    </tr>\n",
       "    <tr>\n",
       "      <th>25%</th>\n",
       "      <td>1.000000</td>\n",
       "      <td>100.000000</td>\n",
       "      <td>66.000000</td>\n",
       "      <td>27.000000</td>\n",
       "      <td>105.000000</td>\n",
       "      <td>27.500000</td>\n",
       "      <td>0.236000</td>\n",
       "      <td>24.000000</td>\n",
       "      <td>0.000000</td>\n",
       "    </tr>\n",
       "    <tr>\n",
       "      <th>50%</th>\n",
       "      <td>3.000000</td>\n",
       "      <td>117.000000</td>\n",
       "      <td>72.000000</td>\n",
       "      <td>27.000000</td>\n",
       "      <td>105.000000</td>\n",
       "      <td>32.000000</td>\n",
       "      <td>0.344500</td>\n",
       "      <td>30.000000</td>\n",
       "      <td>0.000000</td>\n",
       "    </tr>\n",
       "    <tr>\n",
       "      <th>75%</th>\n",
       "      <td>6.000000</td>\n",
       "      <td>139.250000</td>\n",
       "      <td>80.000000</td>\n",
       "      <td>32.000000</td>\n",
       "      <td>175.000000</td>\n",
       "      <td>36.300000</td>\n",
       "      <td>0.605500</td>\n",
       "      <td>41.000000</td>\n",
       "      <td>1.000000</td>\n",
       "    </tr>\n",
       "    <tr>\n",
       "      <th>max</th>\n",
       "      <td>17.000000</td>\n",
       "      <td>199.000000</td>\n",
       "      <td>122.000000</td>\n",
       "      <td>99.000000</td>\n",
       "      <td>744.000000</td>\n",
       "      <td>57.300000</td>\n",
       "      <td>2.329000</td>\n",
       "      <td>81.000000</td>\n",
       "      <td>1.000000</td>\n",
       "    </tr>\n",
       "  </tbody>\n",
       "</table>\n",
       "</div>"
      ],
      "text/plain": [
       "       Pregnancies     Glucose  BloodPressure  SkinThickness     Insulin  \\\n",
       "count   572.000000  572.000000     572.000000     572.000000  572.000000   \n",
       "mean      4.106643  121.627622      73.136364      29.190559  139.865385   \n",
       "std       3.446995   30.034239      11.965461       8.245174   76.111457   \n",
       "min       0.000000   44.000000      30.000000       7.000000   16.000000   \n",
       "25%       1.000000  100.000000      66.000000      27.000000  105.000000   \n",
       "50%       3.000000  117.000000      72.000000      27.000000  105.000000   \n",
       "75%       6.000000  139.250000      80.000000      32.000000  175.000000   \n",
       "max      17.000000  199.000000     122.000000      99.000000  744.000000   \n",
       "\n",
       "              BMI  DiabetesPedigreeFunction         Age     Outcome  \n",
       "count  572.000000                572.000000  572.000000  572.000000  \n",
       "mean    32.298427                  0.459121   34.043706    0.358392  \n",
       "std      6.676774                  0.336124   12.103893    0.479948  \n",
       "min     18.200000                  0.078000   21.000000    0.000000  \n",
       "25%     27.500000                  0.236000   24.000000    0.000000  \n",
       "50%     32.000000                  0.344500   30.000000    0.000000  \n",
       "75%     36.300000                  0.605500   41.000000    1.000000  \n",
       "max     57.300000                  2.329000   81.000000    1.000000  "
      ]
     },
     "execution_count": 31,
     "metadata": {},
     "output_type": "execute_result"
    }
   ],
   "source": [
    "#Analise estatistica descritiva\n",
    "\n",
    "dados.describe()"
   ]
  },
  {
   "cell_type": "code",
   "execution_count": 32,
   "metadata": {},
   "outputs": [
    {
     "data": {
      "text/html": [
       "<div>\n",
       "<style scoped>\n",
       "    .dataframe tbody tr th:only-of-type {\n",
       "        vertical-align: middle;\n",
       "    }\n",
       "\n",
       "    .dataframe tbody tr th {\n",
       "        vertical-align: top;\n",
       "    }\n",
       "\n",
       "    .dataframe thead th {\n",
       "        text-align: right;\n",
       "    }\n",
       "</style>\n",
       "<table border=\"1\" class=\"dataframe\">\n",
       "  <thead>\n",
       "    <tr style=\"text-align: right;\">\n",
       "      <th></th>\n",
       "      <th>Pregnancies</th>\n",
       "      <th>Glucose</th>\n",
       "      <th>BloodPressure</th>\n",
       "      <th>SkinThickness</th>\n",
       "      <th>Insulin</th>\n",
       "      <th>BMI</th>\n",
       "      <th>DiabetesPedigreeFunction</th>\n",
       "      <th>Age</th>\n",
       "      <th>Outcome</th>\n",
       "    </tr>\n",
       "  </thead>\n",
       "  <tbody>\n",
       "    <tr>\n",
       "      <th>0</th>\n",
       "      <td>1.0</td>\n",
       "      <td>99.0</td>\n",
       "      <td>74.0</td>\n",
       "      <td>27.0</td>\n",
       "      <td>105.0</td>\n",
       "      <td>30.1</td>\n",
       "      <td>0.254</td>\n",
       "      <td>22.0</td>\n",
       "      <td>0.0</td>\n",
       "    </tr>\n",
       "    <tr>\n",
       "      <th>1</th>\n",
       "      <td>NaN</td>\n",
       "      <td>107.0</td>\n",
       "      <td>NaN</td>\n",
       "      <td>NaN</td>\n",
       "      <td>NaN</td>\n",
       "      <td>NaN</td>\n",
       "      <td>0.258</td>\n",
       "      <td>NaN</td>\n",
       "      <td>NaN</td>\n",
       "    </tr>\n",
       "  </tbody>\n",
       "</table>\n",
       "</div>"
      ],
      "text/plain": [
       "   Pregnancies  Glucose  BloodPressure  SkinThickness  Insulin   BMI  \\\n",
       "0          1.0     99.0           74.0           27.0    105.0  30.1   \n",
       "1          NaN    107.0            NaN            NaN      NaN   NaN   \n",
       "\n",
       "   DiabetesPedigreeFunction   Age  Outcome  \n",
       "0                     0.254  22.0      0.0  \n",
       "1                     0.258   NaN      NaN  "
      ]
     },
     "execution_count": 32,
     "metadata": {},
     "output_type": "execute_result"
    }
   ],
   "source": [
    "dados.mode( axis = 0 )"
   ]
  },
  {
   "attachments": {},
   "cell_type": "markdown",
   "metadata": {},
   "source": [
    "Analise de outliers"
   ]
  },
  {
   "cell_type": "code",
   "execution_count": 33,
   "metadata": {},
   "outputs": [
    {
     "data": {
      "text/plain": [
       "<AxesSubplot: xlabel='Age'>"
      ]
     },
     "execution_count": 33,
     "metadata": {},
     "output_type": "execute_result"
    },
    {
     "data": {
      "image/png": "[encoded data removed]",
      "text/plain": [
       "<Figure size 640x480 with 1 Axes>"
      ]
     },
     "metadata": {},
     "output_type": "display_data"
    }
   ],
   "source": [
    "sns.boxplot(data=dados, x=\"Age\")"
   ]
  },
  {
   "cell_type": "code",
   "execution_count": 34,
   "metadata": {},
   "outputs": [
    {
     "data": {
      "text/plain": [
       "<AxesSubplot: xlabel='Pregnancies'>"
      ]
     },
     "execution_count": 34,
     "metadata": {},
     "output_type": "execute_result"
    },
    {
     "data": {
      "image/png": "[encoded data removed]",
      "text/plain": [
       "<Figure size 640x480 with 1 Axes>"
      ]
     },
     "metadata": {},
     "output_type": "display_data"
    }
   ],
   "source": [
    "sns.boxplot(data=dados, x=\"Pregnancies\")"
   ]
  },
  {
   "cell_type": "code",
   "execution_count": 35,
   "metadata": {},
   "outputs": [
    {
     "data": {
      "text/plain": [
       "<AxesSubplot: xlabel='Glucose'>"
      ]
     },
     "execution_count": 35,
     "metadata": {},
     "output_type": "execute_result"
    },
    {
     "data": {
      "image/png": "[encoded data removed]",
      "text/plain": [
       "<Figure size 640x480 with 1 Axes>"
      ]
     },
     "metadata": {},
     "output_type": "display_data"
    }
   ],
   "source": [
    "sns.boxplot(data=dados, x=\"Glucose\")"
   ]
  },
  {
   "cell_type": "code",
   "execution_count": 36,
   "metadata": {},
   "outputs": [
    {
     "data": {
      "text/plain": [
       "<AxesSubplot: xlabel='BloodPressure'>"
      ]
     },
     "execution_count": 36,
     "metadata": {},
     "output_type": "execute_result"
    },
    {
     "data": {
      "image/png": "[encoded data removed]",
      "text/plain": [
       "<Figure size 640x480 with 1 Axes>"
      ]
     },
     "metadata": {},
     "output_type": "display_data"
    }
   ],
   "source": [
    "sns.boxplot(data=dados, x=\"BloodPressure\")"
   ]
  },
  {
   "cell_type": "code",
   "execution_count": 37,
   "metadata": {},
   "outputs": [
    {
     "data": {
      "text/plain": [
       "<AxesSubplot: xlabel='SkinThickness'>"
      ]
     },
     "execution_count": 37,
     "metadata": {},
     "output_type": "execute_result"
    },
    {
     "data": {
      "image/png": "[encoded data removed]",
      "text/plain": [
       "<Figure size 640x480 with 1 Axes>"
      ]
     },
     "metadata": {},
     "output_type": "display_data"
    }
   ],
   "source": [
    "sns.boxplot(data=dados, x=\"SkinThickness\")"
   ]
  },
  {
   "cell_type": "code",
   "execution_count": 38,
   "metadata": {},
   "outputs": [
    {
     "data": {
      "text/plain": [
       "<AxesSubplot: xlabel='Insulin'>"
      ]
     },
     "execution_count": 38,
     "metadata": {},
     "output_type": "execute_result"
    },
    {
     "data": {
      "image/png": "[encoded data removed]",
      "text/plain": [
       "<Figure size 640x480 with 1 Axes>"
      ]
     },
     "metadata": {},
     "output_type": "display_data"
    }
   ],
   "source": [
    "sns.boxplot(data=dados, x=\"Insulin\")"
   ]
  },
  {
   "cell_type": "code",
   "execution_count": 39,
   "metadata": {},
   "outputs": [
    {
     "data": {
      "text/plain": [
       "<AxesSubplot: xlabel='BMI'>"
      ]
     },
     "execution_count": 39,
     "metadata": {},
     "output_type": "execute_result"
    },
    {
     "data": {
      "image/png": "[encoded data removed]",
      "text/plain": [
       "<Figure size 640x480 with 1 Axes>"
      ]
     },
     "metadata": {},
     "output_type": "display_data"
    }
   ],
   "source": [
    "sns.boxplot(data=dados, x=\"BMI\")"
   ]
  },
  {
   "cell_type": "code",
   "execution_count": 40,
   "metadata": {},
   "outputs": [
    {
     "data": {
      "text/plain": [
       "<AxesSubplot: xlabel='DiabetesPedigreeFunction'>"
      ]
     },
     "execution_count": 40,
     "metadata": {},
     "output_type": "execute_result"
    },
    {
     "data": {
      "image/png": "[encoded data removed]",
      "text/plain": [
       "<Figure size 640x480 with 1 Axes>"
      ]
     },
     "metadata": {},
     "output_type": "display_data"
    }
   ],
   "source": [
    "sns.boxplot(data=dados, x=\"DiabetesPedigreeFunction\")"
   ]
  },
  {
   "attachments": {},
   "cell_type": "markdown",
   "metadata": {},
   "source": [
    "Atributos previsoes e alvos"
   ]
  },
  {
   "cell_type": "code",
   "execution_count": 41,
   "metadata": {},
   "outputs": [
    {
     "data": {
      "text/plain": [
       "(572, 9)"
      ]
     },
     "execution_count": 41,
     "metadata": {},
     "output_type": "execute_result"
    }
   ],
   "source": [
    "dados.shape\n"
   ]
  },
  {
   "cell_type": "code",
   "execution_count": 42,
   "metadata": {},
   "outputs": [
    {
     "data": {
      "text/plain": [
       "(572, 8)"
      ]
     },
     "execution_count": 42,
     "metadata": {},
     "output_type": "execute_result"
    }
   ],
   "source": [
    "previsores = dados.iloc[:, 0:8].values #Pega os valores em formato de matriz\n",
    "\n",
    "previsores.shape"
   ]
  },
  {
   "cell_type": "code",
   "execution_count": 43,
   "metadata": {},
   "outputs": [
    {
     "data": {
      "text/plain": [
       "array([[1.00e+00, 8.50e+01, 6.60e+01, ..., 2.66e+01, 3.51e-01, 3.10e+01],\n",
       "       [5.00e+00, 1.16e+02, 7.40e+01, ..., 2.56e+01, 2.01e-01, 3.00e+01],\n",
       "       [1.00e+01, 1.15e+02, 7.20e+01, ..., 3.53e+01, 1.34e-01, 2.90e+01],\n",
       "       ...,\n",
       "       [6.00e+00, 1.90e+02, 9.20e+01, ..., 3.55e+01, 2.78e-01, 6.60e+01],\n",
       "       [9.00e+00, 1.70e+02, 7.40e+01, ..., 4.40e+01, 4.03e-01, 4.30e+01],\n",
       "       [1.00e+00, 1.26e+02, 6.00e+01, ..., 3.01e+01, 3.49e-01, 4.70e+01]])"
      ]
     },
     "execution_count": 43,
     "metadata": {},
     "output_type": "execute_result"
    }
   ],
   "source": [
    "previsores"
   ]
  },
  {
   "cell_type": "code",
   "execution_count": 44,
   "metadata": {},
   "outputs": [
    {
     "data": {
      "text/plain": [
       "array([0, 0, 0, 0, 0, 0, 0, 0, 0, 0, 0, 0, 0, 0, 0, 0, 0, 0, 0, 0, 0, 0,\n",
       "       0, 0, 0, 0, 0, 0, 0, 0, 0, 0, 0, 0, 0, 0, 0, 0, 0, 0, 0, 0, 0, 0,\n",
       "       0, 0, 0, 0, 0, 0, 0, 0, 0, 0, 0, 0, 0, 0, 0, 0, 0, 0, 0, 0, 0, 0,\n",
       "       0, 0, 0, 0, 0, 0, 0, 0, 0, 0, 0, 0, 0, 0, 0, 0, 0, 0, 0, 0, 0, 0,\n",
       "       0, 0, 0, 0, 0, 0, 0, 0, 0, 0, 0, 0, 0, 0, 0, 0, 0, 0, 0, 0, 0, 0,\n",
       "       0, 0, 0, 0, 0, 0, 0, 0, 0, 0, 0, 0, 0, 0, 0, 0, 0, 0, 0, 0, 0, 0,\n",
       "       0, 0, 0, 0, 0, 0, 0, 0, 0, 0, 0, 0, 0, 0, 0, 0, 0, 0, 0, 0, 0, 0,\n",
       "       0, 0, 0, 0, 0, 0, 0, 0, 0, 0, 0, 0, 0, 0, 0, 0, 0, 0, 0, 0, 0, 0,\n",
       "       0, 0, 0, 0, 0, 0, 0, 0, 0, 0, 0, 0, 0, 0, 0, 0, 0, 0, 0, 0, 0, 0,\n",
       "       0, 0, 0, 0, 0, 0, 0, 0, 0, 0, 0, 0, 0, 0, 0, 0, 0, 0, 0, 0, 0, 0,\n",
       "       0, 0, 0, 0, 0, 0, 0, 0, 0, 0, 0, 0, 0, 0, 0, 0, 0, 0, 0, 0, 0, 0,\n",
       "       0, 0, 0, 0, 0, 0, 0, 0, 0, 0, 0, 0, 0, 0, 0, 0, 0, 0, 0, 0, 0, 0,\n",
       "       0, 0, 0, 0, 0, 0, 0, 0, 0, 0, 0, 0, 0, 0, 0, 0, 0, 0, 0, 0, 0, 0,\n",
       "       0, 0, 0, 0, 0, 0, 0, 0, 0, 0, 0, 0, 0, 0, 0, 0, 0, 0, 0, 0, 0, 0,\n",
       "       0, 0, 0, 0, 0, 0, 0, 0, 0, 0, 0, 0, 0, 0, 0, 0, 0, 0, 0, 0, 0, 0,\n",
       "       0, 0, 0, 0, 0, 0, 0, 0, 0, 0, 0, 0, 0, 0, 0, 0, 0, 0, 0, 0, 0, 0,\n",
       "       0, 0, 0, 0, 0, 0, 0, 0, 0, 0, 0, 0, 0, 0, 0, 1, 1, 1, 1, 1, 1, 1,\n",
       "       1, 1, 1, 1, 1, 1, 1, 1, 1, 1, 1, 1, 1, 1, 1, 1, 1, 1, 1, 1, 1, 1,\n",
       "       1, 1, 1, 1, 1, 1, 1, 1, 1, 1, 1, 1, 1, 1, 1, 1, 1, 1, 1, 1, 1, 1,\n",
       "       1, 1, 1, 1, 1, 1, 1, 1, 1, 1, 1, 1, 1, 1, 1, 1, 1, 1, 1, 1, 1, 1,\n",
       "       1, 1, 1, 1, 1, 1, 1, 1, 1, 1, 1, 1, 1, 1, 1, 1, 1, 1, 1, 1, 1, 1,\n",
       "       1, 1, 1, 1, 1, 1, 1, 1, 1, 1, 1, 1, 1, 1, 1, 1, 1, 1, 1, 1, 1, 1,\n",
       "       1, 1, 1, 1, 1, 1, 1, 1, 1, 1, 1, 1, 1, 1, 1, 1, 1, 1, 1, 1, 1, 1,\n",
       "       1, 1, 1, 1, 1, 1, 1, 1, 1, 1, 1, 1, 1, 1, 1, 1, 1, 1, 1, 1, 1, 1,\n",
       "       1, 1, 1, 1, 1, 1, 1, 1, 1, 1, 1, 1, 1, 1, 1, 1, 1, 1, 1, 1, 1, 1,\n",
       "       1, 1, 1, 1, 1, 1, 1, 1, 1, 1, 1, 1, 1, 1, 1, 1, 1, 1, 1, 1, 1, 1],\n",
       "      dtype=int64)"
      ]
     },
     "execution_count": 44,
     "metadata": {},
     "output_type": "execute_result"
    }
   ],
   "source": [
    "alvo = dados.iloc[:, 8].values #pega os valores em formato de matriz\n",
    "\n",
    "alvo"
   ]
  },
  {
   "cell_type": "code",
   "execution_count": 45,
   "metadata": {},
   "outputs": [
    {
     "data": {
      "text/plain": [
       "(572,)"
      ]
     },
     "execution_count": 45,
     "metadata": {},
     "output_type": "execute_result"
    }
   ],
   "source": [
    "alvo.shape"
   ]
  },
  {
   "attachments": {},
   "cell_type": "markdown",
   "metadata": {},
   "source": [
    "Padronizando e Normalizando os atributos\n",
    "\n",
    "Padronização (utiliza a média e o desvio padrão como referência).\n",
    "\n",
    "Normalização (utiliza os valores máximo e mínimo como referência)."
   ]
  },
  {
   "cell_type": "code",
   "execution_count": 46,
   "metadata": {},
   "outputs": [],
   "source": [
    "previsores_esc = StandardScaler().fit_transform(previsores)"
   ]
  },
  {
   "cell_type": "code",
   "execution_count": 47,
   "metadata": {},
   "outputs": [
    {
     "data": {
      "text/plain": [
       "array([[-0.9020501 , -1.22059634, -0.5969356 , ..., -0.85421703,\n",
       "        -0.32195015, -0.25168518],\n",
       "       [ 0.25939651, -0.18753757,  0.07224061, ..., -1.00412104,\n",
       "        -0.76860425, -0.33437554],\n",
       "       [ 1.71120477, -0.22086205, -0.09505344, ...,  0.44994791,\n",
       "        -0.96810975, -0.4170659 ],\n",
       "       ...,\n",
       "       [ 0.54975816,  2.27847368,  1.57788711, ...,  0.47992871,\n",
       "        -0.53932181,  2.64247753],\n",
       "       [ 1.42084312,  1.61198415,  0.07224061, ...,  1.75411285,\n",
       "        -0.16711006,  0.74059918],\n",
       "       [-0.9020501 ,  0.14570719, -1.09881777, ..., -0.32955297,\n",
       "        -0.32790554,  1.07136063]])"
      ]
     },
     "execution_count": 47,
     "metadata": {},
     "output_type": "execute_result"
    }
   ],
   "source": [
    "previsores_esc"
   ]
  },
  {
   "cell_type": "code",
   "execution_count": 48,
   "metadata": {},
   "outputs": [
    {
     "data": {
      "text/html": [
       "<div>\n",
       "<style scoped>\n",
       "    .dataframe tbody tr th:only-of-type {\n",
       "        vertical-align: middle;\n",
       "    }\n",
       "\n",
       "    .dataframe tbody tr th {\n",
       "        vertical-align: top;\n",
       "    }\n",
       "\n",
       "    .dataframe thead th {\n",
       "        text-align: right;\n",
       "    }\n",
       "</style>\n",
       "<table border=\"1\" class=\"dataframe\">\n",
       "  <thead>\n",
       "    <tr style=\"text-align: right;\">\n",
       "      <th></th>\n",
       "      <th>0</th>\n",
       "      <th>1</th>\n",
       "      <th>2</th>\n",
       "      <th>3</th>\n",
       "      <th>4</th>\n",
       "      <th>5</th>\n",
       "      <th>6</th>\n",
       "      <th>7</th>\n",
       "    </tr>\n",
       "  </thead>\n",
       "  <tbody>\n",
       "    <tr>\n",
       "      <th>0</th>\n",
       "      <td>-0.902050</td>\n",
       "      <td>-1.220596</td>\n",
       "      <td>-0.596936</td>\n",
       "      <td>-0.023132</td>\n",
       "      <td>-0.458484</td>\n",
       "      <td>-0.854217</td>\n",
       "      <td>-0.321950</td>\n",
       "      <td>-0.251685</td>\n",
       "    </tr>\n",
       "    <tr>\n",
       "      <th>1</th>\n",
       "      <td>0.259397</td>\n",
       "      <td>-0.187538</td>\n",
       "      <td>0.072241</td>\n",
       "      <td>-0.265910</td>\n",
       "      <td>-0.458484</td>\n",
       "      <td>-1.004121</td>\n",
       "      <td>-0.768604</td>\n",
       "      <td>-0.334376</td>\n",
       "    </tr>\n",
       "    <tr>\n",
       "      <th>2</th>\n",
       "      <td>1.711205</td>\n",
       "      <td>-0.220862</td>\n",
       "      <td>-0.095053</td>\n",
       "      <td>-0.265910</td>\n",
       "      <td>-0.458484</td>\n",
       "      <td>0.449948</td>\n",
       "      <td>-0.968110</td>\n",
       "      <td>-0.417066</td>\n",
       "    </tr>\n",
       "    <tr>\n",
       "      <th>3</th>\n",
       "      <td>-0.030965</td>\n",
       "      <td>-0.387484</td>\n",
       "      <td>1.577887</td>\n",
       "      <td>-0.265910</td>\n",
       "      <td>-0.458484</td>\n",
       "      <td>0.794727</td>\n",
       "      <td>-0.798381</td>\n",
       "      <td>-0.334376</td>\n",
       "    </tr>\n",
       "    <tr>\n",
       "      <th>4</th>\n",
       "      <td>1.711205</td>\n",
       "      <td>0.578925</td>\n",
       "      <td>0.574123</td>\n",
       "      <td>-0.265910</td>\n",
       "      <td>-0.458484</td>\n",
       "      <td>-0.779265</td>\n",
       "      <td>2.923736</td>\n",
       "      <td>1.898264</td>\n",
       "    </tr>\n",
       "    <tr>\n",
       "      <th>...</th>\n",
       "      <td>...</td>\n",
       "      <td>...</td>\n",
       "      <td>...</td>\n",
       "      <td>...</td>\n",
       "      <td>...</td>\n",
       "      <td>...</td>\n",
       "      <td>...</td>\n",
       "      <td>...</td>\n",
       "    </tr>\n",
       "    <tr>\n",
       "      <th>567</th>\n",
       "      <td>1.130481</td>\n",
       "      <td>1.078793</td>\n",
       "      <td>0.406829</td>\n",
       "      <td>0.341036</td>\n",
       "      <td>0.462025</td>\n",
       "      <td>0.015226</td>\n",
       "      <td>-0.048002</td>\n",
       "      <td>0.905980</td>\n",
       "    </tr>\n",
       "    <tr>\n",
       "      <th>568</th>\n",
       "      <td>-1.192412</td>\n",
       "      <td>0.045734</td>\n",
       "      <td>-0.095053</td>\n",
       "      <td>0.341036</td>\n",
       "      <td>0.462025</td>\n",
       "      <td>0.599852</td>\n",
       "      <td>-0.598876</td>\n",
       "      <td>1.484812</td>\n",
       "    </tr>\n",
       "    <tr>\n",
       "      <th>569</th>\n",
       "      <td>0.549758</td>\n",
       "      <td>2.278474</td>\n",
       "      <td>1.577887</td>\n",
       "      <td>0.341036</td>\n",
       "      <td>0.462025</td>\n",
       "      <td>0.479929</td>\n",
       "      <td>-0.539322</td>\n",
       "      <td>2.642478</td>\n",
       "    </tr>\n",
       "    <tr>\n",
       "      <th>570</th>\n",
       "      <td>1.420843</td>\n",
       "      <td>1.611984</td>\n",
       "      <td>0.072241</td>\n",
       "      <td>0.219647</td>\n",
       "      <td>0.462025</td>\n",
       "      <td>1.754113</td>\n",
       "      <td>-0.167110</td>\n",
       "      <td>0.740599</td>\n",
       "    </tr>\n",
       "    <tr>\n",
       "      <th>571</th>\n",
       "      <td>-0.902050</td>\n",
       "      <td>0.145707</td>\n",
       "      <td>-1.098818</td>\n",
       "      <td>0.341036</td>\n",
       "      <td>0.462025</td>\n",
       "      <td>-0.329553</td>\n",
       "      <td>-0.327906</td>\n",
       "      <td>1.071361</td>\n",
       "    </tr>\n",
       "  </tbody>\n",
       "</table>\n",
       "<p>572 rows × 8 columns</p>\n",
       "</div>"
      ],
      "text/plain": [
       "            0         1         2         3         4         5         6  \\\n",
       "0   -0.902050 -1.220596 -0.596936 -0.023132 -0.458484 -0.854217 -0.321950   \n",
       "1    0.259397 -0.187538  0.072241 -0.265910 -0.458484 -1.004121 -0.768604   \n",
       "2    1.711205 -0.220862 -0.095053 -0.265910 -0.458484  0.449948 -0.968110   \n",
       "3   -0.030965 -0.387484  1.577887 -0.265910 -0.458484  0.794727 -0.798381   \n",
       "4    1.711205  0.578925  0.574123 -0.265910 -0.458484 -0.779265  2.923736   \n",
       "..        ...       ...       ...       ...       ...       ...       ...   \n",
       "567  1.130481  1.078793  0.406829  0.341036  0.462025  0.015226 -0.048002   \n",
       "568 -1.192412  0.045734 -0.095053  0.341036  0.462025  0.599852 -0.598876   \n",
       "569  0.549758  2.278474  1.577887  0.341036  0.462025  0.479929 -0.539322   \n",
       "570  1.420843  1.611984  0.072241  0.219647  0.462025  1.754113 -0.167110   \n",
       "571 -0.902050  0.145707 -1.098818  0.341036  0.462025 -0.329553 -0.327906   \n",
       "\n",
       "            7  \n",
       "0   -0.251685  \n",
       "1   -0.334376  \n",
       "2   -0.417066  \n",
       "3   -0.334376  \n",
       "4    1.898264  \n",
       "..        ...  \n",
       "567  0.905980  \n",
       "568  1.484812  \n",
       "569  2.642478  \n",
       "570  0.740599  \n",
       "571  1.071361  \n",
       "\n",
       "[572 rows x 8 columns]"
      ]
     },
     "execution_count": 48,
     "metadata": {},
     "output_type": "execute_result"
    }
   ],
   "source": [
    "previsoresdf = pd.DataFrame(previsores_esc)\n",
    "previsoresdf"
   ]
  },
  {
   "cell_type": "code",
   "execution_count": 49,
   "metadata": {},
   "outputs": [
    {
     "data": {
      "text/html": [
       "<div>\n",
       "<style scoped>\n",
       "    .dataframe tbody tr th:only-of-type {\n",
       "        vertical-align: middle;\n",
       "    }\n",
       "\n",
       "    .dataframe tbody tr th {\n",
       "        vertical-align: top;\n",
       "    }\n",
       "\n",
       "    .dataframe thead th {\n",
       "        text-align: right;\n",
       "    }\n",
       "</style>\n",
       "<table border=\"1\" class=\"dataframe\">\n",
       "  <thead>\n",
       "    <tr style=\"text-align: right;\">\n",
       "      <th></th>\n",
       "      <th>0</th>\n",
       "      <th>1</th>\n",
       "      <th>2</th>\n",
       "      <th>3</th>\n",
       "      <th>4</th>\n",
       "      <th>5</th>\n",
       "      <th>6</th>\n",
       "      <th>7</th>\n",
       "    </tr>\n",
       "  </thead>\n",
       "  <tbody>\n",
       "    <tr>\n",
       "      <th>count</th>\n",
       "      <td>5.720000e+02</td>\n",
       "      <td>5.720000e+02</td>\n",
       "      <td>5.720000e+02</td>\n",
       "      <td>5.720000e+02</td>\n",
       "      <td>5.720000e+02</td>\n",
       "      <td>5.720000e+02</td>\n",
       "      <td>5.720000e+02</td>\n",
       "      <td>5.720000e+02</td>\n",
       "    </tr>\n",
       "    <tr>\n",
       "      <th>mean</th>\n",
       "      <td>-2.484415e-17</td>\n",
       "      <td>1.242208e-16</td>\n",
       "      <td>-3.167629e-16</td>\n",
       "      <td>7.453245e-17</td>\n",
       "      <td>2.484415e-17</td>\n",
       "      <td>8.447012e-16</td>\n",
       "      <td>1.739091e-16</td>\n",
       "      <td>3.726623e-17</td>\n",
       "    </tr>\n",
       "    <tr>\n",
       "      <th>std</th>\n",
       "      <td>1.000875e+00</td>\n",
       "      <td>1.000875e+00</td>\n",
       "      <td>1.000875e+00</td>\n",
       "      <td>1.000875e+00</td>\n",
       "      <td>1.000875e+00</td>\n",
       "      <td>1.000875e+00</td>\n",
       "      <td>1.000875e+00</td>\n",
       "      <td>1.000875e+00</td>\n",
       "    </tr>\n",
       "    <tr>\n",
       "      <th>min</th>\n",
       "      <td>-1.192412e+00</td>\n",
       "      <td>-2.586900e+00</td>\n",
       "      <td>-3.608229e+00</td>\n",
       "      <td>-2.693695e+00</td>\n",
       "      <td>-1.628845e+00</td>\n",
       "      <td>-2.113411e+00</td>\n",
       "      <td>-1.134861e+00</td>\n",
       "      <td>-1.078589e+00</td>\n",
       "    </tr>\n",
       "    <tr>\n",
       "      <th>25%</th>\n",
       "      <td>-9.020501e-01</td>\n",
       "      <td>-7.207292e-01</td>\n",
       "      <td>-5.969356e-01</td>\n",
       "      <td>-2.659103e-01</td>\n",
       "      <td>-4.584842e-01</td>\n",
       "      <td>-7.193034e-01</td>\n",
       "      <td>-6.643850e-01</td>\n",
       "      <td>-8.305177e-01</td>\n",
       "    </tr>\n",
       "    <tr>\n",
       "      <th>50%</th>\n",
       "      <td>-3.213268e-01</td>\n",
       "      <td>-1.542131e-01</td>\n",
       "      <td>-9.505344e-02</td>\n",
       "      <td>-2.659103e-01</td>\n",
       "      <td>-4.584842e-01</td>\n",
       "      <td>-4.473534e-02</td>\n",
       "      <td>-3.413052e-01</td>\n",
       "      <td>-3.343755e-01</td>\n",
       "    </tr>\n",
       "    <tr>\n",
       "      <th>75%</th>\n",
       "      <td>5.497582e-01</td>\n",
       "      <td>5.872565e-01</td>\n",
       "      <td>5.741228e-01</td>\n",
       "      <td>3.410358e-01</td>\n",
       "      <td>4.620246e-01</td>\n",
       "      <td>5.998519e-01</td>\n",
       "      <td>4.358730e-01</td>\n",
       "      <td>5.752185e-01</td>\n",
       "    </tr>\n",
       "    <tr>\n",
       "      <th>max</th>\n",
       "      <td>3.743736e+00</td>\n",
       "      <td>2.578394e+00</td>\n",
       "      <td>4.087298e+00</td>\n",
       "      <td>8.474114e+00</td>\n",
       "      <td>7.944447e+00</td>\n",
       "      <td>3.747836e+00</td>\n",
       "      <td>5.567929e+00</td>\n",
       "      <td>3.882833e+00</td>\n",
       "    </tr>\n",
       "  </tbody>\n",
       "</table>\n",
       "</div>"
      ],
      "text/plain": [
       "                  0             1             2             3             4  \\\n",
       "count  5.720000e+02  5.720000e+02  5.720000e+02  5.720000e+02  5.720000e+02   \n",
       "mean  -2.484415e-17  1.242208e-16 -3.167629e-16  7.453245e-17  2.484415e-17   \n",
       "std    1.000875e+00  1.000875e+00  1.000875e+00  1.000875e+00  1.000875e+00   \n",
       "min   -1.192412e+00 -2.586900e+00 -3.608229e+00 -2.693695e+00 -1.628845e+00   \n",
       "25%   -9.020501e-01 -7.207292e-01 -5.969356e-01 -2.659103e-01 -4.584842e-01   \n",
       "50%   -3.213268e-01 -1.542131e-01 -9.505344e-02 -2.659103e-01 -4.584842e-01   \n",
       "75%    5.497582e-01  5.872565e-01  5.741228e-01  3.410358e-01  4.620246e-01   \n",
       "max    3.743736e+00  2.578394e+00  4.087298e+00  8.474114e+00  7.944447e+00   \n",
       "\n",
       "                  5             6             7  \n",
       "count  5.720000e+02  5.720000e+02  5.720000e+02  \n",
       "mean   8.447012e-16  1.739091e-16  3.726623e-17  \n",
       "std    1.000875e+00  1.000875e+00  1.000875e+00  \n",
       "min   -2.113411e+00 -1.134861e+00 -1.078589e+00  \n",
       "25%   -7.193034e-01 -6.643850e-01 -8.305177e-01  \n",
       "50%   -4.473534e-02 -3.413052e-01 -3.343755e-01  \n",
       "75%    5.998519e-01  4.358730e-01  5.752185e-01  \n",
       "max    3.747836e+00  5.567929e+00  3.882833e+00  "
      ]
     },
     "execution_count": 49,
     "metadata": {},
     "output_type": "execute_result"
    }
   ],
   "source": [
    "previsoresdf.describe()"
   ]
  },
  {
   "attachments": {},
   "cell_type": "markdown",
   "metadata": {},
   "source": [
    "Salvando Variaveis"
   ]
  },
  {
   "cell_type": "code",
   "execution_count": 50,
   "metadata": {},
   "outputs": [],
   "source": [
    "import pickle"
   ]
  },
  {
   "cell_type": "code",
   "execution_count": 51,
   "metadata": {},
   "outputs": [],
   "source": [
    "#Criando arquivo\n",
    "arq1 = open('dados_tratados.pkl', 'wb')"
   ]
  },
  {
   "cell_type": "code",
   "execution_count": 52,
   "metadata": {},
   "outputs": [],
   "source": [
    "# Salvando a variável no arquivo\n",
    "pickle.dump(alvo, arq1)"
   ]
  },
  {
   "cell_type": "code",
   "execution_count": 53,
   "metadata": {},
   "outputs": [],
   "source": [
    "# Fechando arquivo\n",
    "arq1.close()"
   ]
  },
  {
   "cell_type": "code",
   "execution_count": 54,
   "metadata": {},
   "outputs": [],
   "source": [
    "# Lendo arquivo\n",
    "arq1 = open('dados_tratados.pkl', 'rb')"
   ]
  },
  {
   "cell_type": "code",
   "execution_count": 55,
   "metadata": {},
   "outputs": [],
   "source": [
    "# Chamando a variável\n",
    "alvo = pickle.load(arq1)"
   ]
  },
  {
   "cell_type": "code",
   "execution_count": 56,
   "metadata": {},
   "outputs": [
    {
     "data": {
      "text/plain": [
       "array([0, 0, 0, 0, 0, 0, 0, 0, 0, 0, 0, 0, 0, 0, 0, 0, 0, 0, 0, 0, 0, 0,\n",
       "       0, 0, 0, 0, 0, 0, 0, 0, 0, 0, 0, 0, 0, 0, 0, 0, 0, 0, 0, 0, 0, 0,\n",
       "       0, 0, 0, 0, 0, 0, 0, 0, 0, 0, 0, 0, 0, 0, 0, 0, 0, 0, 0, 0, 0, 0,\n",
       "       0, 0, 0, 0, 0, 0, 0, 0, 0, 0, 0, 0, 0, 0, 0, 0, 0, 0, 0, 0, 0, 0,\n",
       "       0, 0, 0, 0, 0, 0, 0, 0, 0, 0, 0, 0, 0, 0, 0, 0, 0, 0, 0, 0, 0, 0,\n",
       "       0, 0, 0, 0, 0, 0, 0, 0, 0, 0, 0, 0, 0, 0, 0, 0, 0, 0, 0, 0, 0, 0,\n",
       "       0, 0, 0, 0, 0, 0, 0, 0, 0, 0, 0, 0, 0, 0, 0, 0, 0, 0, 0, 0, 0, 0,\n",
       "       0, 0, 0, 0, 0, 0, 0, 0, 0, 0, 0, 0, 0, 0, 0, 0, 0, 0, 0, 0, 0, 0,\n",
       "       0, 0, 0, 0, 0, 0, 0, 0, 0, 0, 0, 0, 0, 0, 0, 0, 0, 0, 0, 0, 0, 0,\n",
       "       0, 0, 0, 0, 0, 0, 0, 0, 0, 0, 0, 0, 0, 0, 0, 0, 0, 0, 0, 0, 0, 0,\n",
       "       0, 0, 0, 0, 0, 0, 0, 0, 0, 0, 0, 0, 0, 0, 0, 0, 0, 0, 0, 0, 0, 0,\n",
       "       0, 0, 0, 0, 0, 0, 0, 0, 0, 0, 0, 0, 0, 0, 0, 0, 0, 0, 0, 0, 0, 0,\n",
       "       0, 0, 0, 0, 0, 0, 0, 0, 0, 0, 0, 0, 0, 0, 0, 0, 0, 0, 0, 0, 0, 0,\n",
       "       0, 0, 0, 0, 0, 0, 0, 0, 0, 0, 0, 0, 0, 0, 0, 0, 0, 0, 0, 0, 0, 0,\n",
       "       0, 0, 0, 0, 0, 0, 0, 0, 0, 0, 0, 0, 0, 0, 0, 0, 0, 0, 0, 0, 0, 0,\n",
       "       0, 0, 0, 0, 0, 0, 0, 0, 0, 0, 0, 0, 0, 0, 0, 0, 0, 0, 0, 0, 0, 0,\n",
       "       0, 0, 0, 0, 0, 0, 0, 0, 0, 0, 0, 0, 0, 0, 0, 1, 1, 1, 1, 1, 1, 1,\n",
       "       1, 1, 1, 1, 1, 1, 1, 1, 1, 1, 1, 1, 1, 1, 1, 1, 1, 1, 1, 1, 1, 1,\n",
       "       1, 1, 1, 1, 1, 1, 1, 1, 1, 1, 1, 1, 1, 1, 1, 1, 1, 1, 1, 1, 1, 1,\n",
       "       1, 1, 1, 1, 1, 1, 1, 1, 1, 1, 1, 1, 1, 1, 1, 1, 1, 1, 1, 1, 1, 1,\n",
       "       1, 1, 1, 1, 1, 1, 1, 1, 1, 1, 1, 1, 1, 1, 1, 1, 1, 1, 1, 1, 1, 1,\n",
       "       1, 1, 1, 1, 1, 1, 1, 1, 1, 1, 1, 1, 1, 1, 1, 1, 1, 1, 1, 1, 1, 1,\n",
       "       1, 1, 1, 1, 1, 1, 1, 1, 1, 1, 1, 1, 1, 1, 1, 1, 1, 1, 1, 1, 1, 1,\n",
       "       1, 1, 1, 1, 1, 1, 1, 1, 1, 1, 1, 1, 1, 1, 1, 1, 1, 1, 1, 1, 1, 1,\n",
       "       1, 1, 1, 1, 1, 1, 1, 1, 1, 1, 1, 1, 1, 1, 1, 1, 1, 1, 1, 1, 1, 1,\n",
       "       1, 1, 1, 1, 1, 1, 1, 1, 1, 1, 1, 1, 1, 1, 1, 1, 1, 1, 1, 1, 1, 1],\n",
       "      dtype=int64)"
      ]
     },
     "execution_count": 56,
     "metadata": {},
     "output_type": "execute_result"
    }
   ],
   "source": [
    "alvo"
   ]
  },
  {
   "cell_type": "code",
   "execution_count": 57,
   "metadata": {},
   "outputs": [],
   "source": [
    "# Criando arquivos e Salvando as variáveis\n",
    "arq2 = open('dados', 'wb')\n",
    "pickle.dump(previsores, arq2)"
   ]
  },
  {
   "cell_type": "code",
   "execution_count": 58,
   "metadata": {},
   "outputs": [],
   "source": [
    "arq2 = open('dados', 'rb')"
   ]
  },
  {
   "cell_type": "code",
   "execution_count": 59,
   "metadata": {},
   "outputs": [],
   "source": [
    "previsores = pickle.load(arq2)"
   ]
  },
  {
   "cell_type": "code",
   "execution_count": 60,
   "metadata": {},
   "outputs": [
    {
     "data": {
      "text/plain": [
       "array([[1.00e+00, 8.50e+01, 6.60e+01, ..., 2.66e+01, 3.51e-01, 3.10e+01],\n",
       "       [5.00e+00, 1.16e+02, 7.40e+01, ..., 2.56e+01, 2.01e-01, 3.00e+01],\n",
       "       [1.00e+01, 1.15e+02, 7.20e+01, ..., 3.53e+01, 1.34e-01, 2.90e+01],\n",
       "       ...,\n",
       "       [6.00e+00, 1.90e+02, 9.20e+01, ..., 3.55e+01, 2.78e-01, 6.60e+01],\n",
       "       [9.00e+00, 1.70e+02, 7.40e+01, ..., 4.40e+01, 4.03e-01, 4.30e+01],\n",
       "       [1.00e+00, 1.26e+02, 6.00e+01, ..., 3.01e+01, 3.49e-01, 4.70e+01]])"
      ]
     },
     "execution_count": 60,
     "metadata": {},
     "output_type": "execute_result"
    }
   ],
   "source": [
    "previsores"
   ]
  },
  {
   "attachments": {},
   "cell_type": "markdown",
   "metadata": {},
   "source": [
    "Treino e teste"
   ]
  },
  {
   "cell_type": "code",
   "execution_count": 61,
   "metadata": {},
   "outputs": [],
   "source": [
    "from sklearn.model_selection import train_test_split\n",
    "x_treino, x_teste, y_treino, y_teste = train_test_split(previsores, alvo, test_size = 0.3, random_state = 0)"
   ]
  },
  {
   "cell_type": "code",
   "execution_count": 62,
   "metadata": {},
   "outputs": [
    {
     "name": "stdout",
     "output_type": "stream",
     "text": [
      "(172, 8)\n",
      "(172,)\n"
     ]
    }
   ],
   "source": [
    "print(x_teste.shape)\n",
    "print(y_teste.shape)"
   ]
  },
  {
   "attachments": {},
   "cell_type": "markdown",
   "metadata": {},
   "source": [
    "Juntando o dado tratado e convertendo pra panda"
   ]
  },
  {
   "cell_type": "code",
   "execution_count": 63,
   "metadata": {},
   "outputs": [
    {
     "name": "stdout",
     "output_type": "stream",
     "text": [
      "(400, 9)\n"
     ]
    }
   ],
   "source": [
    "dfx_treino = pd.DataFrame(x_treino, columns = ['Pregnancies','Glucose','BloodPressure','SkinThickness','Insulin','BMI','DiabetesPedigreeFunction','Age'])\n",
    "\n",
    "dfy_treino = pd.DataFrame(y_treino, columns = ['Outcome'])\n",
    "\n",
    "result_treino = pd.concat([dfx_treino, dfy_treino], axis=1)\n",
    "\n",
    "print(result_treino.shape)"
   ]
  },
  {
   "cell_type": "code",
   "execution_count": 64,
   "metadata": {},
   "outputs": [
    {
     "name": "stdout",
     "output_type": "stream",
     "text": [
      "(172, 9)\n"
     ]
    }
   ],
   "source": [
    "dfx_teste = pd.DataFrame(x_teste, columns = ['Pregnancies','Glucose','BloodPressure','SkinThickness','Insulin','BMI','DiabetesPedigreeFunction','Age'])\n",
    "\n",
    "dfy_teste = pd.DataFrame(y_teste, columns = ['Outcome'])\n",
    "\n",
    "result_teste = pd.concat([dfx_teste, dfy_teste], axis=1)\n",
    "\n",
    "print(result_teste.shape)"
   ]
  },
  {
   "attachments": {},
   "cell_type": "markdown",
   "metadata": {},
   "source": [
    "Codigo do professor"
   ]
  },
  {
   "cell_type": "code",
   "execution_count": 65,
   "metadata": {},
   "outputs": [
    {
     "name": "stdout",
     "output_type": "stream",
     "text": [
      "\n",
      " - Lendo o arquivo com o dataset sobre diabetes\n",
      " - Criando X e y para o algoritmo de aprendizagem a partir do arquivo diabetes_dataset\n",
      " - Criando modelo preditivo\n",
      " - Aplicando modelo e enviando para o servidor\n",
      " - Resposta do servidor:\n",
      " {\"error\":{\"code\":101,\"message\":\"Erro ao verificar o desenvolvedor: Human_learing\"}} \n",
      "\n"
     ]
    }
   ],
   "source": [
    "#!/usr/bin/env python3\n",
    "# -*- coding: utf-8 -*-\n",
    "\"\"\"\n",
    "Atividade para trabalhar o pré-processamento dos dados.\n",
    "\n",
    "Criação de modelo preditivo para diabetes e envio para verificação de peformance\n",
    "no servidor.\n",
    "\n",
    "@author: Aydano Machado <aydano.machado@gmail.com>\n",
    "\"\"\"\n",
    "\n",
    "import pandas as pd\n",
    "from sklearn.neighbors import KNeighborsClassifier\n",
    "import requests\n",
    "\n",
    "print('\\n - Lendo o arquivo com o dataset sobre diabetes')\n",
    "#result_treino\n",
    "#result_teste\n",
    "\n",
    "data = result_treino\n",
    "\n",
    "#print(result)\n",
    "\n",
    "# Criando X and y par ao algorítmo de aprendizagem de máquina.\\\n",
    "print(' - Criando X e y para o algoritmo de aprendizagem a partir do arquivo diabetes_dataset')\n",
    "# Caso queira modificar as colunas consideradas basta algera o array a seguir.\n",
    "feature_cols = ['Pregnancies', 'Glucose', 'BloodPressure', 'SkinThickness', \n",
    "                'Insulin', 'BMI', 'DiabetesPedigreeFunction', 'Age']\n",
    "X = data[feature_cols]\n",
    "y = data.Outcome\n",
    "\n",
    "# Ciando o modelo preditivo para a base trabalhada\n",
    "print(' - Criando modelo preditivo')\n",
    "neigh = KNeighborsClassifier(n_neighbors=3)\n",
    "neigh.fit(X, y)\n",
    "\n",
    "#realizando previsões com o arquivo de\n",
    "print(' - Aplicando modelo e enviando para o servidor')\n",
    "data_app = pd.read_csv('diabetes_app.csv')\n",
    "data_app = data_app[feature_cols]\n",
    "y_pred = neigh.predict(data_app)\n",
    "\n",
    "# Enviando previsões realizadas com o modelo para o servidor\n",
    "URL = \"https://aydanomachado.com/mlclass/01_Preprocessing.php\"\n",
    "\n",
    "#TODO Substituir pela sua chave aqui\n",
    "DEV_KEY = \"Human_learing\"\n",
    "\n",
    "# json para ser enviado para o servidor\n",
    "data = {'dev_key':DEV_KEY,\n",
    "        'predictions':pd.Series(y_pred).to_json(orient='values')}\n",
    "\n",
    "# Enviando requisição e salvando o objeto resposta\n",
    "r = requests.post(url = URL, data = data)\n",
    "\n",
    "# Extraindo e imprimindo o texto da resposta\n",
    "pastebin_url = r.text\n",
    "print(\" - Resposta do servidor:\\n\", r.text, \"\\n\")"
   ]
  },
  {
   "attachments": {},
   "cell_type": "markdown",
   "metadata": {},
   "source": [
    "Accuracy"
   ]
  },
  {
   "cell_type": "code",
   "execution_count": 69,
   "metadata": {},
   "outputs": [
    {
     "name": "stdout",
     "output_type": "stream",
     "text": [
      "Acurácia: 88.37%\n"
     ]
    }
   ],
   "source": [
    "from sklearn.metrics import accuracy_score\n",
    "\n",
    "knn = KNeighborsClassifier(n_neighbors=3)\n",
    "knn.fit(x_treino, y_treino)\n",
    "previsoes_knn = knn.predict(x_teste)\n",
    "\n",
    "print(\"Acurácia: %.2f%%\" % (accuracy_score(y_teste, previsoes_knn) * 100.0))"
   ]
  },
  {
   "attachments": {},
   "cell_type": "markdown",
   "metadata": {},
   "source": [
    "Cross Validation"
   ]
  },
  {
   "cell_type": "code",
   "execution_count": 70,
   "metadata": {},
   "outputs": [
    {
     "name": "stdout",
     "output_type": "stream",
     "text": [
      "Acurácia Média: 79.20%\n"
     ]
    }
   ],
   "source": [
    "from sklearn.model_selection import KFold\n",
    "from sklearn.model_selection import cross_val_score\n",
    "from sklearn.naive_bayes import GaussianNB\n",
    "\n",
    "kfold = KFold(n_splits = 30, shuffle=True, random_state = 5)\n",
    "\n",
    "modelo = GaussianNB()\n",
    "resultado = cross_val_score(modelo, previsores, alvo, cv = kfold)\n",
    "print(\"Acurácia Média: %.2f%%\" % (resultado.mean() * 100.0))"
   ]
  }
 ],
 "metadata": {
  "kernelspec": {
   "display_name": "Python 3",
   "language": "python",
   "name": "python3"
  },
  "language_info": {
   "codemirror_mode": {
    "name": "ipython",
    "version": 3
   },
   "file_extension": ".py",
   "mimetype": "text/x-python",
   "name": "python",
   "nbconvert_exporter": "python",
   "pygments_lexer": "ipython3",
   "version": "3.11.0"
  },
  "orig_nbformat": 4
 },
 "nbformat": 4,
 "nbformat_minor": 2
}
